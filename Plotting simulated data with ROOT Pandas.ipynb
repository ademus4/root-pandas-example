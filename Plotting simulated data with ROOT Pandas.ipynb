{
 "cells": [
  {
   "cell_type": "code",
   "execution_count": 28,
   "metadata": {},
   "outputs": [],
   "source": [
    "import root_pandas as rp  # only python2 at the moment :'(\n",
    "import matplotlib.pylab as plt\n",
    "import matplotlib.ticker as ticker"
   ]
  },
  {
   "cell_type": "markdown",
   "metadata": {},
   "source": [
    "Read the data as a Pandas dataframe direct from ROOT"
   ]
  },
  {
   "cell_type": "code",
   "execution_count": 2,
   "metadata": {},
   "outputs": [],
   "source": [
    "df = rp.read_root(\"./data/EptoRhop_1.root\")  # simulated events"
   ]
  },
  {
   "cell_type": "code",
   "execution_count": 3,
   "metadata": {},
   "outputs": [
    {
     "data": {
      "text/html": [
       "<div>\n",
       "<style scoped>\n",
       "    .dataframe tbody tr th:only-of-type {\n",
       "        vertical-align: middle;\n",
       "    }\n",
       "\n",
       "    .dataframe tbody tr th {\n",
       "        vertical-align: top;\n",
       "    }\n",
       "\n",
       "    .dataframe thead th {\n",
       "        text-align: right;\n",
       "    }\n",
       "</style>\n",
       "<table border=\"1\" class=\"dataframe\">\n",
       "  <thead>\n",
       "    <tr style=\"text-align: right;\">\n",
       "      <th></th>\n",
       "      <th>Topo</th>\n",
       "      <th>Correct</th>\n",
       "      <th>NPerm</th>\n",
       "      <th>NDet</th>\n",
       "      <th>UID</th>\n",
       "      <th>MissMass</th>\n",
       "      <th>MissMass2</th>\n",
       "      <th>MissMass2p</th>\n",
       "      <th>TriggerElectron</th>\n",
       "      <th>TriggerMesonex</th>\n",
       "      <th>...</th>\n",
       "      <th>ElFTcalE</th>\n",
       "      <th>ProtTh</th>\n",
       "      <th>ProtP</th>\n",
       "      <th>ProtTime</th>\n",
       "      <th>PipTh</th>\n",
       "      <th>PipP</th>\n",
       "      <th>PipTime</th>\n",
       "      <th>PimTh</th>\n",
       "      <th>PimP</th>\n",
       "      <th>PimTime</th>\n",
       "    </tr>\n",
       "  </thead>\n",
       "  <tbody>\n",
       "    <tr>\n",
       "      <th>0</th>\n",
       "      <td>2</td>\n",
       "      <td>1</td>\n",
       "      <td>1</td>\n",
       "      <td>7</td>\n",
       "      <td>0.0</td>\n",
       "      <td>-0.081172</td>\n",
       "      <td>-0.006589</td>\n",
       "      <td>0.000000</td>\n",
       "      <td>0.0</td>\n",
       "      <td>0.0</td>\n",
       "      <td>...</td>\n",
       "      <td>0.0</td>\n",
       "      <td>0.0</td>\n",
       "      <td>0.0</td>\n",
       "      <td>0.0</td>\n",
       "      <td>0.0</td>\n",
       "      <td>0.0</td>\n",
       "      <td>0.0</td>\n",
       "      <td>0.0</td>\n",
       "      <td>0.0</td>\n",
       "      <td>0.0</td>\n",
       "    </tr>\n",
       "    <tr>\n",
       "      <th>1</th>\n",
       "      <td>2</td>\n",
       "      <td>0</td>\n",
       "      <td>2</td>\n",
       "      <td>7</td>\n",
       "      <td>1.0</td>\n",
       "      <td>-0.153809</td>\n",
       "      <td>-0.023657</td>\n",
       "      <td>0.000000</td>\n",
       "      <td>0.0</td>\n",
       "      <td>0.0</td>\n",
       "      <td>...</td>\n",
       "      <td>0.0</td>\n",
       "      <td>0.0</td>\n",
       "      <td>0.0</td>\n",
       "      <td>0.0</td>\n",
       "      <td>0.0</td>\n",
       "      <td>0.0</td>\n",
       "      <td>0.0</td>\n",
       "      <td>0.0</td>\n",
       "      <td>0.0</td>\n",
       "      <td>0.0</td>\n",
       "    </tr>\n",
       "    <tr>\n",
       "      <th>2</th>\n",
       "      <td>3</td>\n",
       "      <td>0</td>\n",
       "      <td>4</td>\n",
       "      <td>7</td>\n",
       "      <td>2.0</td>\n",
       "      <td>1.847140</td>\n",
       "      <td>3.411925</td>\n",
       "      <td>0.000000</td>\n",
       "      <td>0.0</td>\n",
       "      <td>0.0</td>\n",
       "      <td>...</td>\n",
       "      <td>0.0</td>\n",
       "      <td>0.0</td>\n",
       "      <td>0.0</td>\n",
       "      <td>0.0</td>\n",
       "      <td>0.0</td>\n",
       "      <td>0.0</td>\n",
       "      <td>0.0</td>\n",
       "      <td>0.0</td>\n",
       "      <td>0.0</td>\n",
       "      <td>0.0</td>\n",
       "    </tr>\n",
       "    <tr>\n",
       "      <th>3</th>\n",
       "      <td>3</td>\n",
       "      <td>0</td>\n",
       "      <td>5</td>\n",
       "      <td>7</td>\n",
       "      <td>3.0</td>\n",
       "      <td>1.842007</td>\n",
       "      <td>3.392990</td>\n",
       "      <td>0.000000</td>\n",
       "      <td>0.0</td>\n",
       "      <td>0.0</td>\n",
       "      <td>...</td>\n",
       "      <td>0.0</td>\n",
       "      <td>0.0</td>\n",
       "      <td>0.0</td>\n",
       "      <td>0.0</td>\n",
       "      <td>0.0</td>\n",
       "      <td>0.0</td>\n",
       "      <td>0.0</td>\n",
       "      <td>0.0</td>\n",
       "      <td>0.0</td>\n",
       "      <td>0.0</td>\n",
       "    </tr>\n",
       "    <tr>\n",
       "      <th>4</th>\n",
       "      <td>0</td>\n",
       "      <td>1</td>\n",
       "      <td>1</td>\n",
       "      <td>4</td>\n",
       "      <td>4.0</td>\n",
       "      <td>1.277871</td>\n",
       "      <td>1.632956</td>\n",
       "      <td>5.487951</td>\n",
       "      <td>0.0</td>\n",
       "      <td>0.0</td>\n",
       "      <td>...</td>\n",
       "      <td>0.0</td>\n",
       "      <td>0.0</td>\n",
       "      <td>0.0</td>\n",
       "      <td>0.0</td>\n",
       "      <td>0.0</td>\n",
       "      <td>0.0</td>\n",
       "      <td>0.0</td>\n",
       "      <td>0.0</td>\n",
       "      <td>0.0</td>\n",
       "      <td>0.0</td>\n",
       "    </tr>\n",
       "  </tbody>\n",
       "</table>\n",
       "<p>5 rows × 32 columns</p>\n",
       "</div>"
      ],
      "text/plain": [
       "   Topo  Correct  NPerm  NDet  UID  MissMass  MissMass2  MissMass2p  \\\n",
       "0     2        1      1     7  0.0 -0.081172  -0.006589    0.000000   \n",
       "1     2        0      2     7  1.0 -0.153809  -0.023657    0.000000   \n",
       "2     3        0      4     7  2.0  1.847140   3.411925    0.000000   \n",
       "3     3        0      5     7  3.0  1.842007   3.392990    0.000000   \n",
       "4     0        1      1     4  4.0  1.277871   1.632956    5.487951   \n",
       "\n",
       "   TriggerElectron  TriggerMesonex  ...  ElFTcalE  ProtTh  ProtP  ProtTime  \\\n",
       "0              0.0             0.0  ...       0.0     0.0    0.0       0.0   \n",
       "1              0.0             0.0  ...       0.0     0.0    0.0       0.0   \n",
       "2              0.0             0.0  ...       0.0     0.0    0.0       0.0   \n",
       "3              0.0             0.0  ...       0.0     0.0    0.0       0.0   \n",
       "4              0.0             0.0  ...       0.0     0.0    0.0       0.0   \n",
       "\n",
       "   PipTh  PipP  PipTime  PimTh  PimP  PimTime  \n",
       "0    0.0   0.0      0.0    0.0   0.0      0.0  \n",
       "1    0.0   0.0      0.0    0.0   0.0      0.0  \n",
       "2    0.0   0.0      0.0    0.0   0.0      0.0  \n",
       "3    0.0   0.0      0.0    0.0   0.0      0.0  \n",
       "4    0.0   0.0      0.0    0.0   0.0      0.0  \n",
       "\n",
       "[5 rows x 32 columns]"
      ]
     },
     "execution_count": 3,
     "metadata": {},
     "output_type": "execute_result"
    }
   ],
   "source": [
    "df.head()"
   ]
  },
  {
   "cell_type": "code",
   "execution_count": 4,
   "metadata": {},
   "outputs": [
    {
     "data": {
      "text/html": [
       "<div>\n",
       "<style scoped>\n",
       "    .dataframe tbody tr th:only-of-type {\n",
       "        vertical-align: middle;\n",
       "    }\n",
       "\n",
       "    .dataframe tbody tr th {\n",
       "        vertical-align: top;\n",
       "    }\n",
       "\n",
       "    .dataframe thead th {\n",
       "        text-align: right;\n",
       "    }\n",
       "</style>\n",
       "<table border=\"1\" class=\"dataframe\">\n",
       "  <thead>\n",
       "    <tr style=\"text-align: right;\">\n",
       "      <th></th>\n",
       "      <th>Topo</th>\n",
       "      <th>Correct</th>\n",
       "      <th>NPerm</th>\n",
       "      <th>NDet</th>\n",
       "      <th>UID</th>\n",
       "      <th>MissMass</th>\n",
       "      <th>MissMass2</th>\n",
       "      <th>MissMass2p</th>\n",
       "      <th>TriggerElectron</th>\n",
       "      <th>TriggerMesonex</th>\n",
       "      <th>...</th>\n",
       "      <th>ElFTcalE</th>\n",
       "      <th>ProtTh</th>\n",
       "      <th>ProtP</th>\n",
       "      <th>ProtTime</th>\n",
       "      <th>PipTh</th>\n",
       "      <th>PipP</th>\n",
       "      <th>PipTime</th>\n",
       "      <th>PimTh</th>\n",
       "      <th>PimP</th>\n",
       "      <th>PimTime</th>\n",
       "    </tr>\n",
       "  </thead>\n",
       "  <tbody>\n",
       "    <tr>\n",
       "      <th>count</th>\n",
       "      <td>69274.000000</td>\n",
       "      <td>69274.000000</td>\n",
       "      <td>69274.000000</td>\n",
       "      <td>69274.000000</td>\n",
       "      <td>69274.000000</td>\n",
       "      <td>69274.000000</td>\n",
       "      <td>69274.000000</td>\n",
       "      <td>69274.000000</td>\n",
       "      <td>69274.0</td>\n",
       "      <td>69274.0</td>\n",
       "      <td>...</td>\n",
       "      <td>69274.0</td>\n",
       "      <td>69274.0</td>\n",
       "      <td>69274.0</td>\n",
       "      <td>69274.0</td>\n",
       "      <td>69274.0</td>\n",
       "      <td>69274.0</td>\n",
       "      <td>69274.0</td>\n",
       "      <td>69274.0</td>\n",
       "      <td>69274.0</td>\n",
       "      <td>69274.0</td>\n",
       "    </tr>\n",
       "    <tr>\n",
       "      <th>mean</th>\n",
       "      <td>1.565725</td>\n",
       "      <td>0.320135</td>\n",
       "      <td>2.476499</td>\n",
       "      <td>5.327482</td>\n",
       "      <td>34636.500000</td>\n",
       "      <td>0.689928</td>\n",
       "      <td>0.635896</td>\n",
       "      <td>2.563719</td>\n",
       "      <td>0.0</td>\n",
       "      <td>0.0</td>\n",
       "      <td>...</td>\n",
       "      <td>0.0</td>\n",
       "      <td>0.0</td>\n",
       "      <td>0.0</td>\n",
       "      <td>0.0</td>\n",
       "      <td>0.0</td>\n",
       "      <td>0.0</td>\n",
       "      <td>0.0</td>\n",
       "      <td>0.0</td>\n",
       "      <td>0.0</td>\n",
       "      <td>0.0</td>\n",
       "    </tr>\n",
       "    <tr>\n",
       "      <th>std</th>\n",
       "      <td>1.081918</td>\n",
       "      <td>0.466531</td>\n",
       "      <td>1.421474</td>\n",
       "      <td>2.658743</td>\n",
       "      <td>19997.825611</td>\n",
       "      <td>1.372291</td>\n",
       "      <td>42.735825</td>\n",
       "      <td>6.317016</td>\n",
       "      <td>0.0</td>\n",
       "      <td>0.0</td>\n",
       "      <td>...</td>\n",
       "      <td>0.0</td>\n",
       "      <td>0.0</td>\n",
       "      <td>0.0</td>\n",
       "      <td>0.0</td>\n",
       "      <td>0.0</td>\n",
       "      <td>0.0</td>\n",
       "      <td>0.0</td>\n",
       "      <td>0.0</td>\n",
       "      <td>0.0</td>\n",
       "      <td>0.0</td>\n",
       "    </tr>\n",
       "    <tr>\n",
       "      <th>min</th>\n",
       "      <td>0.000000</td>\n",
       "      <td>0.000000</td>\n",
       "      <td>1.000000</td>\n",
       "      <td>3.000000</td>\n",
       "      <td>0.000000</td>\n",
       "      <td>-84.034090</td>\n",
       "      <td>-7061.728274</td>\n",
       "      <td>-205.975027</td>\n",
       "      <td>0.0</td>\n",
       "      <td>0.0</td>\n",
       "      <td>...</td>\n",
       "      <td>0.0</td>\n",
       "      <td>0.0</td>\n",
       "      <td>0.0</td>\n",
       "      <td>0.0</td>\n",
       "      <td>0.0</td>\n",
       "      <td>0.0</td>\n",
       "      <td>0.0</td>\n",
       "      <td>0.0</td>\n",
       "      <td>0.0</td>\n",
       "      <td>0.0</td>\n",
       "    </tr>\n",
       "    <tr>\n",
       "      <th>25%</th>\n",
       "      <td>1.000000</td>\n",
       "      <td>0.000000</td>\n",
       "      <td>1.000000</td>\n",
       "      <td>4.000000</td>\n",
       "      <td>17318.250000</td>\n",
       "      <td>0.091445</td>\n",
       "      <td>0.008362</td>\n",
       "      <td>0.849728</td>\n",
       "      <td>0.0</td>\n",
       "      <td>0.0</td>\n",
       "      <td>...</td>\n",
       "      <td>0.0</td>\n",
       "      <td>0.0</td>\n",
       "      <td>0.0</td>\n",
       "      <td>0.0</td>\n",
       "      <td>0.0</td>\n",
       "      <td>0.0</td>\n",
       "      <td>0.0</td>\n",
       "      <td>0.0</td>\n",
       "      <td>0.0</td>\n",
       "      <td>0.0</td>\n",
       "    </tr>\n",
       "    <tr>\n",
       "      <th>50%</th>\n",
       "      <td>2.000000</td>\n",
       "      <td>0.000000</td>\n",
       "      <td>2.000000</td>\n",
       "      <td>5.000000</td>\n",
       "      <td>34636.500000</td>\n",
       "      <td>0.568279</td>\n",
       "      <td>0.322941</td>\n",
       "      <td>1.052113</td>\n",
       "      <td>0.0</td>\n",
       "      <td>0.0</td>\n",
       "      <td>...</td>\n",
       "      <td>0.0</td>\n",
       "      <td>0.0</td>\n",
       "      <td>0.0</td>\n",
       "      <td>0.0</td>\n",
       "      <td>0.0</td>\n",
       "      <td>0.0</td>\n",
       "      <td>0.0</td>\n",
       "      <td>0.0</td>\n",
       "      <td>0.0</td>\n",
       "      <td>0.0</td>\n",
       "    </tr>\n",
       "    <tr>\n",
       "      <th>75%</th>\n",
       "      <td>3.000000</td>\n",
       "      <td>1.000000</td>\n",
       "      <td>4.000000</td>\n",
       "      <td>6.000000</td>\n",
       "      <td>51954.750000</td>\n",
       "      <td>1.184958</td>\n",
       "      <td>1.404126</td>\n",
       "      <td>3.245826</td>\n",
       "      <td>0.0</td>\n",
       "      <td>0.0</td>\n",
       "      <td>...</td>\n",
       "      <td>0.0</td>\n",
       "      <td>0.0</td>\n",
       "      <td>0.0</td>\n",
       "      <td>0.0</td>\n",
       "      <td>0.0</td>\n",
       "      <td>0.0</td>\n",
       "      <td>0.0</td>\n",
       "      <td>0.0</td>\n",
       "      <td>0.0</td>\n",
       "      <td>0.0</td>\n",
       "    </tr>\n",
       "    <tr>\n",
       "      <th>max</th>\n",
       "      <td>3.000000</td>\n",
       "      <td>1.000000</td>\n",
       "      <td>5.000000</td>\n",
       "      <td>42.000000</td>\n",
       "      <td>69273.000000</td>\n",
       "      <td>9.635202</td>\n",
       "      <td>92.837126</td>\n",
       "      <td>69.325660</td>\n",
       "      <td>0.0</td>\n",
       "      <td>0.0</td>\n",
       "      <td>...</td>\n",
       "      <td>0.0</td>\n",
       "      <td>0.0</td>\n",
       "      <td>0.0</td>\n",
       "      <td>0.0</td>\n",
       "      <td>0.0</td>\n",
       "      <td>0.0</td>\n",
       "      <td>0.0</td>\n",
       "      <td>0.0</td>\n",
       "      <td>0.0</td>\n",
       "      <td>0.0</td>\n",
       "    </tr>\n",
       "  </tbody>\n",
       "</table>\n",
       "<p>8 rows × 32 columns</p>\n",
       "</div>"
      ],
      "text/plain": [
       "               Topo       Correct         NPerm          NDet           UID  \\\n",
       "count  69274.000000  69274.000000  69274.000000  69274.000000  69274.000000   \n",
       "mean       1.565725      0.320135      2.476499      5.327482  34636.500000   \n",
       "std        1.081918      0.466531      1.421474      2.658743  19997.825611   \n",
       "min        0.000000      0.000000      1.000000      3.000000      0.000000   \n",
       "25%        1.000000      0.000000      1.000000      4.000000  17318.250000   \n",
       "50%        2.000000      0.000000      2.000000      5.000000  34636.500000   \n",
       "75%        3.000000      1.000000      4.000000      6.000000  51954.750000   \n",
       "max        3.000000      1.000000      5.000000     42.000000  69273.000000   \n",
       "\n",
       "           MissMass     MissMass2    MissMass2p  TriggerElectron  \\\n",
       "count  69274.000000  69274.000000  69274.000000          69274.0   \n",
       "mean       0.689928      0.635896      2.563719              0.0   \n",
       "std        1.372291     42.735825      6.317016              0.0   \n",
       "min      -84.034090  -7061.728274   -205.975027              0.0   \n",
       "25%        0.091445      0.008362      0.849728              0.0   \n",
       "50%        0.568279      0.322941      1.052113              0.0   \n",
       "75%        1.184958      1.404126      3.245826              0.0   \n",
       "max        9.635202     92.837126     69.325660              0.0   \n",
       "\n",
       "       TriggerMesonex  ...  ElFTcalE   ProtTh    ProtP  ProtTime    PipTh  \\\n",
       "count         69274.0  ...   69274.0  69274.0  69274.0   69274.0  69274.0   \n",
       "mean              0.0  ...       0.0      0.0      0.0       0.0      0.0   \n",
       "std               0.0  ...       0.0      0.0      0.0       0.0      0.0   \n",
       "min               0.0  ...       0.0      0.0      0.0       0.0      0.0   \n",
       "25%               0.0  ...       0.0      0.0      0.0       0.0      0.0   \n",
       "50%               0.0  ...       0.0      0.0      0.0       0.0      0.0   \n",
       "75%               0.0  ...       0.0      0.0      0.0       0.0      0.0   \n",
       "max               0.0  ...       0.0      0.0      0.0       0.0      0.0   \n",
       "\n",
       "          PipP  PipTime    PimTh     PimP  PimTime  \n",
       "count  69274.0  69274.0  69274.0  69274.0  69274.0  \n",
       "mean       0.0      0.0      0.0      0.0      0.0  \n",
       "std        0.0      0.0      0.0      0.0      0.0  \n",
       "min        0.0      0.0      0.0      0.0      0.0  \n",
       "25%        0.0      0.0      0.0      0.0      0.0  \n",
       "50%        0.0      0.0      0.0      0.0      0.0  \n",
       "75%        0.0      0.0      0.0      0.0      0.0  \n",
       "max        0.0      0.0      0.0      0.0      0.0  \n",
       "\n",
       "[8 rows x 32 columns]"
      ]
     },
     "execution_count": 4,
     "metadata": {},
     "output_type": "execute_result"
    }
   ],
   "source": [
    "df.describe()"
   ]
  },
  {
   "cell_type": "markdown",
   "metadata": {},
   "source": [
    "What columns are in the file? These are produced by previous analysis step using HASPECT"
   ]
  },
  {
   "cell_type": "code",
   "execution_count": 41,
   "metadata": {},
   "outputs": [
    {
     "data": {
      "text/plain": [
       "Index([u'Topo', u'Correct', u'NPerm', u'NDet', u'UID', u'MissMass',\n",
       "       u'MissMass2', u'MissMass2p', u'TriggerElectron', u'TriggerMesonex',\n",
       "       u'MesonMass', u'DppMass', u'D0Mass', u'W', u'Q2', u'Pol', u'Egamma',\n",
       "       u'MesonCosTh', u'MesonPhi', u'ElTh', u'ElP', u'ElTime', u'ElFTcalE',\n",
       "       u'ProtTh', u'ProtP', u'ProtTime', u'PipTh', u'PipP', u'PipTime',\n",
       "       u'PimTh', u'PimP', u'PimTime'],\n",
       "      dtype='object')"
      ]
     },
     "execution_count": 41,
     "metadata": {},
     "output_type": "execute_result"
    }
   ],
   "source": [
    "df.columns"
   ]
  },
  {
   "cell_type": "markdown",
   "metadata": {},
   "source": [
    "Pick one of the values to look at, filtering the values between some limits"
   ]
  },
  {
   "cell_type": "code",
   "execution_count": 44,
   "metadata": {},
   "outputs": [],
   "source": [
    "vals = df['MissMass2']\n",
    "vals = vals[(vals>=-5) & (vals<5)]"
   ]
  },
  {
   "cell_type": "code",
   "execution_count": 45,
   "metadata": {},
   "outputs": [
    {
     "data": {
      "text/plain": [
       "0   -0.006589\n",
       "1   -0.023657\n",
       "2    3.411925\n",
       "3    3.392990\n",
       "4    1.632956\n",
       "5   -0.017103\n",
       "6    1.656092\n",
       "7    0.003769\n",
       "8   -0.090354\n",
       "9   -0.290798\n",
       "Name: MissMass2, dtype: float64"
      ]
     },
     "execution_count": 45,
     "metadata": {},
     "output_type": "execute_result"
    }
   ],
   "source": [
    "vals[:10]"
   ]
  },
  {
   "cell_type": "markdown",
   "metadata": {},
   "source": [
    "Plot the data as a histogram"
   ]
  },
  {
   "cell_type": "code",
   "execution_count": 46,
   "metadata": {},
   "outputs": [
    {
     "data": {
      "text/plain": [
       "<matplotlib.axes._subplots.AxesSubplot at 0x7f0b0c456850>"
      ]
     },
     "execution_count": 46,
     "metadata": {},
     "output_type": "execute_result"
    },
    {
     "data": {
      "image/png": "[encoded data removed]",
      "text/plain": [
       "<Figure size 720x288 with 1 Axes>"
      ]
     },
     "metadata": {
      "needs_background": "light"
     },
     "output_type": "display_data"
    }
   ],
   "source": [
    "fig, ax = plt.subplots(figsize=(10,4))  # setup figure and axes\n",
    "plt.ticklabel_format(style='sci', axis='y', scilimits=(0,0))\n",
    "ax.grid(True)\n",
    "ax.set_xlabel(\"MissingMass^2 [GeV^2]\")\n",
    "ax.set_ylabel(\"# Events\")\n",
    "ax.set_xlim([-5, 5])\n",
    "\n",
    "vals.hist(ax=ax, bins=100, alpha=0.75) # plots values"
   ]
  },
  {
   "cell_type": "markdown",
   "metadata": {},
   "source": [
    "Looking at some other data from the file, same code just within a single cell"
   ]
  },
  {
   "cell_type": "code",
   "execution_count": 47,
   "metadata": {},
   "outputs": [
    {
     "data": {
      "text/plain": [
       "<matplotlib.axes._subplots.AxesSubplot at 0x7f0b0c2eee90>"
      ]
     },
     "execution_count": 47,
     "metadata": {},
     "output_type": "execute_result"
    },
    {
     "data": {
      "image/png": "[encoded data removed]",
      "text/plain": [
       "<Figure size 720x288 with 1 Axes>"
      ]
     },
     "metadata": {
      "needs_background": "light"
     },
     "output_type": "display_data"
    }
   ],
   "source": [
    "vals = df['MesonMass']\n",
    "vals = vals[(vals>=0.15) & (vals<6)]\n",
    "fig, ax = plt.subplots(figsize=(10,4))  # setup figure and axes\n",
    "plt.ticklabel_format(style='sci', axis='y', scilimits=(0,0))\n",
    "ax.xaxis.set_major_locator(ticker.MultipleLocator(0.5))\n",
    "ax.grid(True)\n",
    "ax.set_xlabel(\"Mass [GeV]\")\n",
    "ax.set_ylabel(\"# Events\")\n",
    "ax.set_xlim([0.15, 6])\n",
    "\n",
    "vals.hist(ax=ax, bins=100, alpha=0.75) # plots values"
   ]
  },
  {
   "cell_type": "code",
   "execution_count": 48,
   "metadata": {},
   "outputs": [
    {
     "data": {
      "text/plain": [
       "<matplotlib.axes._subplots.AxesSubplot at 0x7f0b0c1a7d50>"
      ]
     },
     "execution_count": 48,
     "metadata": {},
     "output_type": "execute_result"
    },
    {
     "data": {
      "image/png": "[encoded data removed]",
      "text/plain": [
       "<Figure size 720x288 with 1 Axes>"
      ]
     },
     "metadata": {
      "needs_background": "light"
     },
     "output_type": "display_data"
    }
   ],
   "source": [
    "vals = df['Q2']\n",
    "vals = vals[(vals>=0) & (vals<6)]\n",
    "fig, ax = plt.subplots(figsize=(10,4))  # setup figure and axes\n",
    "plt.ticklabel_format(style='sci', axis='y', scilimits=(0,0))\n",
    "ax.xaxis.set_major_locator(ticker.MultipleLocator(0.5))\n",
    "ax.grid(True)\n",
    "ax.set_xlabel(\"$Q^2$\")\n",
    "ax.set_ylabel(\"# Events\")\n",
    "ax.set_xlim([0, 6])\n",
    "\n",
    "vals.hist(ax=ax, bins=100, alpha=0.75) # plots values"
   ]
  },
  {
   "cell_type": "code",
   "execution_count": null,
   "metadata": {},
   "outputs": [],
   "source": []
  }
 ],
 "metadata": {
  "kernelspec": {
   "display_name": "Python 2",
   "language": "python",
   "name": "python2"
  },
  "language_info": {
   "codemirror_mode": {
    "name": "ipython",
    "version": 2
   },
   "file_extension": ".py",
   "mimetype": "text/x-python",
   "name": "python",
   "nbconvert_exporter": "python",
   "pygments_lexer": "ipython2",
   "version": "2.7.5"
  }
 },
 "nbformat": 4,
 "nbformat_minor": 2
}
